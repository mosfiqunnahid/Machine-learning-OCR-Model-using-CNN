{
  "nbformat": 4,
  "nbformat_minor": 0,
  "metadata": {
    "colab": {
      "name": "OCR Model using CNN.ipynb",
      "provenance": [],
      "collapsed_sections": []
    },
    "kernelspec": {
      "name": "python3",
      "display_name": "Python 3"
    },
    "accelerator": "GPU"
  },
  "cells": [
    {
      "cell_type": "code",
      "metadata": {
        "id": "dbVbviYHLlD6",
        "colab_type": "code",
        "colab": {}
      },
      "source": [
        "import cv2\n",
        "import keras\n",
        "import imutils\n",
        "import numpy as np\n",
        "import pandas as pd\n",
        "from keras import Sequential\n",
        "from keras.layers import Dense\n",
        "import matplotlib.pyplot as plt\n",
        "from skimage.color import rgb2gray\n",
        "from keras.models import Sequential\n",
        "from keras.optimizers import Adam, SGD\n",
        "from keras.utils import to_categorical\n",
        "from sklearn.model_selection import train_test_split\n",
        "from keras.preprocessing.image import ImageDataGenerator\n",
        "from keras.layers import Conv2D, MaxPooling2D, Flatten, Dropout, Dense, ZeroPadding2D, BatchNormalization"
      ],
      "execution_count": 13,
      "outputs": []
    },
    {
      "cell_type": "code",
      "metadata": {
        "id": "3Onz37WVSV7G",
        "colab_type": "code",
        "colab": {}
      },
      "source": [
        "x = np.load('/content/drive/My Drive/LICT training/Mosfiqun Nahid Hassan/Preprocessing_Data( Jupyter)/Numta64allx.npy')/255.0\n",
        "y = np.load('/content/drive/My Drive/LICT training/Mosfiqun Nahid Hassan/Preprocessing_Data( Jupyter)/Numta64ally.npy')"
      ],
      "execution_count": 14,
      "outputs": []
    },
    {
      "cell_type": "code",
      "metadata": {
        "id": "mDw-tggQSWGG",
        "colab_type": "code",
        "colab": {
          "base_uri": "https://localhost:8080/",
          "height": 34
        },
        "outputId": "7abad6f0-966a-402b-b3f2-915dac4cf099"
      },
      "source": [
        "x.shape"
      ],
      "execution_count": 15,
      "outputs": [
        {
          "output_type": "execute_result",
          "data": {
            "text/plain": [
              "(72045, 64, 64)"
            ]
          },
          "metadata": {
            "tags": []
          },
          "execution_count": 15
        }
      ]
    },
    {
      "cell_type": "code",
      "metadata": {
        "id": "lgoI5E0USWEm",
        "colab_type": "code",
        "colab": {}
      },
      "source": [
        "x = x.reshape(-1,64,64,1)\n",
        "y = to_categorical(y)"
      ],
      "execution_count": 16,
      "outputs": []
    },
    {
      "cell_type": "code",
      "metadata": {
        "id": "j5QUsMo9SWCI",
        "colab_type": "code",
        "colab": {
          "base_uri": "https://localhost:8080/",
          "height": 34
        },
        "outputId": "a90ee676-408b-48ea-c0af-5677b3f7fc7f"
      },
      "source": [
        "x.shape"
      ],
      "execution_count": 17,
      "outputs": [
        {
          "output_type": "execute_result",
          "data": {
            "text/plain": [
              "(72045, 64, 64, 1)"
            ]
          },
          "metadata": {
            "tags": []
          },
          "execution_count": 17
        }
      ]
    },
    {
      "cell_type": "code",
      "metadata": {
        "id": "cDpmEvt-SV_P",
        "colab_type": "code",
        "colab": {
          "base_uri": "https://localhost:8080/",
          "height": 34
        },
        "outputId": "ac2af396-b2e1-4249-d7eb-fb224d4516b8"
      },
      "source": [
        "y.shape"
      ],
      "execution_count": 18,
      "outputs": [
        {
          "output_type": "execute_result",
          "data": {
            "text/plain": [
              "(72045, 10)"
            ]
          },
          "metadata": {
            "tags": []
          },
          "execution_count": 18
        }
      ]
    },
    {
      "cell_type": "code",
      "metadata": {
        "id": "DhzbiXAdSV4V",
        "colab_type": "code",
        "colab": {}
      },
      "source": [
        "model = Sequential()\n",
        "\n",
        "model.add(Conv2D(64, (3, 3),padding='same', activation='relu', input_shape=(64, 64,1)))\n",
        "model.add(MaxPooling2D((2, 2)))\n",
        "model.add(Conv2D(128,(3,3),padding='same', activation='relu'))\n",
        "model.add(MaxPooling2D((2, 2)))\n",
        "model.add(Conv2D(256,(3,3),padding='same', activation='relu'))\n",
        "model.add(MaxPooling2D((2, 2)))\n",
        "model.add(Conv2D(512,(3,3),padding='same', activation='relu'))\n",
        "model.add(MaxPooling2D((2, 2)))\n",
        "model.add(Conv2D(512,(3,3),padding='same', activation='relu'))\n",
        "model.add(MaxPooling2D((2, 2)))\n",
        "model.add(Flatten())\n",
        "model.add(Dense(4096, activation='relu'))\n",
        "model.add(Dense(10, activation='softmax'))\n",
        "adam = Adam(lr=.0001)\n",
        "model.compile(optimizer='adam', loss='categorical_crossentropy', metrics=['accuracy'])"
      ],
      "execution_count": 19,
      "outputs": []
    },
    {
      "cell_type": "code",
      "metadata": {
        "id": "V4yTNZUtSV3H",
        "colab_type": "code",
        "colab": {
          "base_uri": "https://localhost:8080/",
          "height": 595
        },
        "outputId": "aed85bf3-8c21-49d8-f8fb-864a3fb70130"
      },
      "source": [
        "model.summary()"
      ],
      "execution_count": 20,
      "outputs": [
        {
          "output_type": "stream",
          "text": [
            "Model: \"sequential_2\"\n",
            "_________________________________________________________________\n",
            "Layer (type)                 Output Shape              Param #   \n",
            "=================================================================\n",
            "conv2d_6 (Conv2D)            (None, 64, 64, 64)        640       \n",
            "_________________________________________________________________\n",
            "max_pooling2d_6 (MaxPooling2 (None, 32, 32, 64)        0         \n",
            "_________________________________________________________________\n",
            "conv2d_7 (Conv2D)            (None, 32, 32, 128)       73856     \n",
            "_________________________________________________________________\n",
            "max_pooling2d_7 (MaxPooling2 (None, 16, 16, 128)       0         \n",
            "_________________________________________________________________\n",
            "conv2d_8 (Conv2D)            (None, 16, 16, 256)       295168    \n",
            "_________________________________________________________________\n",
            "max_pooling2d_8 (MaxPooling2 (None, 8, 8, 256)         0         \n",
            "_________________________________________________________________\n",
            "conv2d_9 (Conv2D)            (None, 8, 8, 512)         1180160   \n",
            "_________________________________________________________________\n",
            "max_pooling2d_9 (MaxPooling2 (None, 4, 4, 512)         0         \n",
            "_________________________________________________________________\n",
            "conv2d_10 (Conv2D)           (None, 4, 4, 512)         2359808   \n",
            "_________________________________________________________________\n",
            "max_pooling2d_10 (MaxPooling (None, 2, 2, 512)         0         \n",
            "_________________________________________________________________\n",
            "flatten_2 (Flatten)          (None, 2048)              0         \n",
            "_________________________________________________________________\n",
            "dense_3 (Dense)              (None, 4096)              8392704   \n",
            "_________________________________________________________________\n",
            "dense_4 (Dense)              (None, 10)                40970     \n",
            "=================================================================\n",
            "Total params: 12,343,306\n",
            "Trainable params: 12,343,306\n",
            "Non-trainable params: 0\n",
            "_________________________________________________________________\n"
          ],
          "name": "stdout"
        }
      ]
    },
    {
      "cell_type": "code",
      "metadata": {
        "id": "b1nsFf-zSVyv",
        "colab_type": "code",
        "colab": {}
      },
      "source": [
        "X_train, X_test, y_train, y_test = train_test_split(x, y, test_size=0.1)"
      ],
      "execution_count": 21,
      "outputs": []
    },
    {
      "cell_type": "code",
      "metadata": {
        "id": "0mL5W1HoSmUi",
        "colab_type": "code",
        "colab": {}
      },
      "source": [
        "datagen = ImageDataGenerator(rotation_range=5, width_shift_range=0.2, height_shift_range=0.2,  zoom_range=0.2)\n",
        "datagen.fit(X_train)"
      ],
      "execution_count": 22,
      "outputs": []
    },
    {
      "cell_type": "code",
      "metadata": {
        "id": "smnwniAbSmR_",
        "colab_type": "code",
        "colab": {
          "base_uri": "https://localhost:8080/",
          "height": 377
        },
        "outputId": "016cdaa8-fcea-4465-a2f3-c2f60ec0f822"
      },
      "source": [
        "history = model.fit(datagen.flow(X_train, y_train,batch_size=100),validation_data=(X_test, y_test),epochs=10)"
      ],
      "execution_count": 23,
      "outputs": [
        {
          "output_type": "stream",
          "text": [
            "Epoch 1/10\n",
            "649/649 [==============================] - 72s 111ms/step - loss: 0.7215 - accuracy: 0.7344 - val_loss: 0.1097 - val_accuracy: 0.9671\n",
            "Epoch 2/10\n",
            "649/649 [==============================] - 64s 99ms/step - loss: 0.1369 - accuracy: 0.9574 - val_loss: 0.0756 - val_accuracy: 0.9771\n",
            "Epoch 3/10\n",
            "649/649 [==============================] - 64s 99ms/step - loss: 0.1026 - accuracy: 0.9680 - val_loss: 0.0699 - val_accuracy: 0.9814\n",
            "Epoch 4/10\n",
            "649/649 [==============================] - 64s 99ms/step - loss: 0.0830 - accuracy: 0.9741 - val_loss: 0.0666 - val_accuracy: 0.9833\n",
            "Epoch 5/10\n",
            "649/649 [==============================] - 64s 98ms/step - loss: 0.0763 - accuracy: 0.9770 - val_loss: 0.0547 - val_accuracy: 0.9861\n",
            "Epoch 6/10\n",
            "649/649 [==============================] - 64s 98ms/step - loss: 0.0730 - accuracy: 0.9773 - val_loss: 0.0590 - val_accuracy: 0.9850\n",
            "Epoch 7/10\n",
            "649/649 [==============================] - 64s 98ms/step - loss: 0.0648 - accuracy: 0.9799 - val_loss: 0.0528 - val_accuracy: 0.9881\n",
            "Epoch 8/10\n",
            "649/649 [==============================] - 64s 98ms/step - loss: 0.0628 - accuracy: 0.9808 - val_loss: 0.0519 - val_accuracy: 0.9890\n",
            "Epoch 9/10\n",
            "649/649 [==============================] - 64s 98ms/step - loss: 0.0576 - accuracy: 0.9820 - val_loss: 0.0529 - val_accuracy: 0.9874\n",
            "Epoch 10/10\n",
            "649/649 [==============================] - 64s 99ms/step - loss: 0.0567 - accuracy: 0.9826 - val_loss: 0.0504 - val_accuracy: 0.9881\n"
          ],
          "name": "stdout"
        }
      ]
    },
    {
      "cell_type": "code",
      "metadata": {
        "id": "SmApOzFgSmQX",
        "colab_type": "code",
        "colab": {
          "base_uri": "https://localhost:8080/",
          "height": 573
        },
        "outputId": "fae0efe2-2495-4155-f876-e31c5feb7878"
      },
      "source": [
        "plt.plot(history.history['loss'])\n",
        "plt.plot(history.history['val_loss'])\n",
        "plt.title('Model loss')\n",
        "plt.ylabel('Loss')\n",
        "plt.xlabel('Epoch')\n",
        "plt.legend(['Train', 'Test'], loc='upper left')\n",
        "plt.show()\n",
        "\n",
        "plt.plot(history.history['accuracy'])\n",
        "plt.plot(history.history['val_accuracy'])\n",
        "plt.title('Model acc')\n",
        "plt.ylabel('acc')\n",
        "plt.xlabel('Epoch')\n",
        "plt.legend(['Train', 'Test'], loc='upper left')\n",
        "plt.show()"
      ],
      "execution_count": 24,
      "outputs": [
        {
          "output_type": "display_data",
          "data": {
            "image/png": "[encoded data removed]",
            "text/plain": [
              "<Figure size 432x288 with 1 Axes>"
            ]
          },
          "metadata": {
            "tags": [],
            "needs_background": "light"
          }
        },
        {
          "output_type": "display_data",
          "data": {
            "image/png": "[encoded data removed]",
            "text/plain": [
              "<Figure size 432x288 with 1 Axes>"
            ]
          },
          "metadata": {
            "tags": [],
            "needs_background": "light"
          }
        }
      ]
    },
    {
      "cell_type": "code",
      "metadata": {
        "id": "HmqxUW9QSmNb",
        "colab_type": "code",
        "colab": {}
      },
      "source": [
        "model.save_weights('OCR_val_accuracy_9885.h5')"
      ],
      "execution_count": 25,
      "outputs": []
    },
    {
      "cell_type": "code",
      "metadata": {
        "id": "Ffkz5v7PSmJe",
        "colab_type": "code",
        "colab": {}
      },
      "source": [
        "model.save('OCR_Model.h5')"
      ],
      "execution_count": 26,
      "outputs": []
    },
    {
      "cell_type": "code",
      "metadata": {
        "id": "VwilB8_XSwDP",
        "colab_type": "code",
        "colab": {}
      },
      "source": [
        "all_img = []\n",
        "for i in range(1,10):\n",
        "  img1 = cv2.imread(str(i)+'.PNG',0)\n",
        "  (thresh, im_bw) = cv2.threshold(img1, 128, 255, cv2.THRESH_BINARY | cv2.THRESH_OTSU)\n",
        "  inv = cv2.bitwise_not(im_bw)\n",
        "  all_img.append(cv2.resize(inv, (64,64)))"
      ],
      "execution_count": 27,
      "outputs": []
    },
    {
      "cell_type": "code",
      "metadata": {
        "id": "by3F7rxUSv_7",
        "colab_type": "code",
        "colab": {}
      },
      "source": [
        "all_img = np.array(all_img)"
      ],
      "execution_count": 28,
      "outputs": []
    },
    {
      "cell_type": "code",
      "metadata": {
        "id": "5qsxmSsJSv85",
        "colab_type": "code",
        "colab": {
          "base_uri": "https://localhost:8080/",
          "height": 240
        },
        "outputId": "375465f6-9dc1-481b-9d18-b69863054477"
      },
      "source": [
        "for i in range(1,10):\n",
        "  plt.subplot(2,5,i)\n",
        "  plt.imshow(all_img[i-1])\n",
        "  plt.title(np.argmax(model.predict(np.reshape(all_img[i-1],(-1,64,64,1)))))"
      ],
      "execution_count": 29,
      "outputs": [
        {
          "output_type": "display_data",
          "data": {
            "image/png": "[encoded data removed]",
            "text/plain": [
              "<Figure size 432x288 with 9 Axes>"
            ]
          },
          "metadata": {
            "tags": [],
            "needs_background": "light"
          }
        }
      ]
    },
    {
      "cell_type": "code",
      "metadata": {
        "id": "TadzuQ2mSv6V",
        "colab_type": "code",
        "colab": {}
      },
      "source": [
        "def segment(image, height=64):\n",
        "    gray = cv2.cvtColor(image, cv2.COLOR_BGR2GRAY)\n",
        "    gray = cv2.GaussianBlur(gray, (7, 7), 0)\n",
        "\n",
        "    # threshold the image\n",
        "    ret,thresh1 = cv2.threshold(gray ,100,255,cv2.THRESH_BINARY_INV)\n",
        "\n",
        "    # dilate the white portions\n",
        "    dilate = cv2.dilate(thresh1, None, iterations=2)\n",
        "\n",
        "    # find contours in the image\n",
        "    cnts = cv2.findContours(dilate.copy(), cv2.RETR_EXTERNAL,\n",
        "        cv2.CHAIN_APPROX_SIMPLE)\n",
        "    cnts = cnts[1] if imutils.is_cv2() else cnts[0]\n",
        "\n",
        "    orig = image.copy()\n",
        "    i = 0\n",
        "    t = 0\n",
        "    c=0\n",
        "    x_all = []\n",
        "    w_all = []\n",
        "    lines = []\n",
        "    parts = []\n",
        "\n",
        "    for cnt in cnts:\n",
        "        # Check the area of contour, if it is very small ignore it\n",
        "        if(cv2.contourArea(cnt) < 100):\n",
        "            continue\n",
        "\n",
        "        # Filtered countours are detected\n",
        "        x,y,w,h = cv2.boundingRect(cnt)\n",
        "        x_all.append(x)\n",
        "        w_all.append(w)\n",
        "        i = i + 1 \n",
        "\n",
        "    comb = np.zeros((2,len(x_all)))\n",
        "    comb[0,:]=x_all\n",
        "    comb[1,:]=w_all\n",
        "    comb = comb.T\n",
        "    comb = comb[comb[:,0].argsort()]\n",
        "\n",
        "    x_all = comb[:,0]\n",
        "    w_all = comb[:,1]\n",
        "\n",
        "\n",
        "    for i, item in enumerate (x_all):\n",
        "        if i < len(x_all)-1:\n",
        "            lines.append((item+w_all[i]+x_all[i+1])/2)\n",
        "\n",
        "\n",
        "    for i in range(len(lines)):\n",
        "        parts.append(cv2.resize(image\n",
        "                                [:,t:int(lines[i]),:],(height,height)))\n",
        "        t = int(lines[i])\n",
        "        if i == len(lines)-1:\n",
        "            parts.append(cv2.resize(image[:,t:,:],(height,height)))\n",
        "    \n",
        "    return parts"
      ],
      "execution_count": 30,
      "outputs": []
    },
    {
      "cell_type": "code",
      "metadata": {
        "id": "M_nnQN88Sv24",
        "colab_type": "code",
        "colab": {
          "base_uri": "https://localhost:8080/",
          "height": 34
        },
        "outputId": "a41a5075-82f2-4162-c4ca-49da944fba67"
      },
      "source": [
        "img=cv2.imread('135.PNG')\n",
        "img1=segment(img)\n",
        "i=np.array(img1)\n",
        "i.shape"
      ],
      "execution_count": 34,
      "outputs": [
        {
          "output_type": "execute_result",
          "data": {
            "text/plain": [
              "(3, 64, 64, 3)"
            ]
          },
          "metadata": {
            "tags": []
          },
          "execution_count": 34
        }
      ]
    },
    {
      "cell_type": "code",
      "metadata": {
        "id": "NtxWeKwzS5tJ",
        "colab_type": "code",
        "colab": {}
      },
      "source": [
        "all_img = []\n",
        "\n",
        "for j in range (len(i)):\n",
        "  img2=rgb2gray(i[j])\n",
        "  all_img.append(img2)"
      ],
      "execution_count": 35,
      "outputs": []
    },
    {
      "cell_type": "code",
      "metadata": {
        "id": "ybGERcX8S5p9",
        "colab_type": "code",
        "colab": {
          "base_uri": "https://localhost:8080/",
          "height": 256
        },
        "outputId": "b9705e12-797b-4d70-d3f4-36722a2ee821"
      },
      "source": [
        "result=[]\n",
        "for j in range(len(i)):\n",
        "  result.append(np.argmax(model.predict(np.reshape(all_img[j],(-1,64,64,1)))))\n",
        "sum=\"\"\n",
        "for j in range(len(i)):\n",
        "   sum=sum+str(result[j])\n",
        "plt.imshow(img)\n",
        "plt.title(sum)"
      ],
      "execution_count": 36,
      "outputs": [
        {
          "output_type": "execute_result",
          "data": {
            "text/plain": [
              "Text(0.5, 1.0, '135')"
            ]
          },
          "metadata": {
            "tags": []
          },
          "execution_count": 36
        },
        {
          "output_type": "display_data",
          "data": {
            "image/png": "[encoded data removed]",
            "text/plain": [
              "<Figure size 432x288 with 1 Axes>"
            ]
          },
          "metadata": {
            "tags": [],
            "needs_background": "light"
          }
        }
      ]
    }
  ]
}